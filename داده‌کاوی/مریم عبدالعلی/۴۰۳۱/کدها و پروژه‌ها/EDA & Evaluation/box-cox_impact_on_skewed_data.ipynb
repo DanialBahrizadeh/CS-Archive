{
 "cells": [
  {
   "cell_type": "code",
   "execution_count": null,
   "metadata": {},
   "outputs": [],
   "source": [
    "import numpy as np\n",
    "import matplotlib.pyplot as plt\n",
    "from scipy import stats\n",
    "\n",
    "np.random.seed(42)\n",
    "neg_skew_data = -np.random.chisquare(df=3, size=1000)  # Negatively skewed data\n",
    "neg_skew_data = neg_skew_data + abs(min(neg_skew_data)) + 1\n",
    "pos_skew_data = np.random.exponential(scale=2, size=1000) +0.1 # Positively skewed data \n",
    "\n",
    "\n",
    "neg_skew_boxcox_lambda2,lam_neg = stats.boxcox(neg_skew_data)  \n",
    "fig, axs = plt.subplots(1, 2, figsize=(18, 10), sharey=True)\n",
    "axs[0].hist(neg_skew_data, bins=30, color='skyblue', edgecolor='black')\n",
    "axs[0].set_title('Original Negatively Skewed Data')\n",
    "axs[1].hist(neg_skew_boxcox_lambda2, bins=30, color='lightgreen', edgecolor='black')\n",
    "axs[1].set_title(f'Neg Skew Data with Box-Cox (λ = {lam_neg:.2f})')\n",
    "for ax in axs.flat:\n",
    "    ax.set_xlabel('Value')\n",
    "    ax.set_ylabel('Frequency')\n",
    "\n",
    "plt.tight_layout()\n",
    "plt.show()\n",
    "\n",
    "pos_skew_boxcox_lambda2,lam_pos = stats.boxcox(pos_skew_data)\n",
    "fig, axs = plt.subplots(1, 2, figsize=(18, 10), sharey=True)\n",
    "axs[0].hist(pos_skew_data, bins=30, color='skyblue', edgecolor='black')\n",
    "axs[0].set_title('Original Positively Skewed Data')\n",
    "axs[1].hist(pos_skew_boxcox_lambda2, bins=30, color='lightgreen', edgecolor='black')\n",
    "axs[1].set_title(f'Pos Skew Data with Box-Cox (λ = {lam_pos:.2f})')\n",
    "for ax in axs.flat:\n",
    "    ax.set_xlabel('Value')\n",
    "    ax.set_ylabel('Frequency')\n",
    "\n",
    "plt.tight_layout()\n",
    "plt.show()\n"
   ]
  }
 ],
 "metadata": {
  "language_info": {
   "name": "python"
  }
 },
 "nbformat": 4,
 "nbformat_minor": 2
}
