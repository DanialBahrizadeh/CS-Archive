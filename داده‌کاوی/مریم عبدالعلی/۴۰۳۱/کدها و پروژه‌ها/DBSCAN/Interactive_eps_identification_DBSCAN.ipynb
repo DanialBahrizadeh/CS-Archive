{
 "cells": [
  {
   "cell_type": "code",
   "execution_count": 17,
   "metadata": {},
   "outputs": [
    {
     "data": {
      "application/vnd.jupyter.widget-view+json": {
       "model_id": "aee03d2d4821420c95ba7665d4b89738",
       "version_major": 2,
       "version_minor": 0
      },
      "text/plain": [
       "interactive(children=(FloatSlider(value=0.25, description='eps', max=0.5, min=0.01, step=0.01), Output()), _do…"
      ]
     },
     "execution_count": 17,
     "metadata": {},
     "output_type": "execute_result"
    }
   ],
   "source": [
    "import numpy as np\n",
    "import matplotlib.pyplot as plt\n",
    "from sklearn.datasets import make_moons\n",
    "from sklearn.neighbors import NearestNeighbors\n",
    "from sklearn.cluster import DBSCAN\n",
    "from ipywidgets import interactive\n",
    "import matplotlib\n",
    "\n",
    "# Generate synthetic data (e.g., two interleaving half circles)\n",
    "X, _ = make_moons(n_samples=300, noise=0.1)\n",
    "\n",
    "# k-NN to get distances to the k-th nearest neighbors (k=4)\n",
    "k = 4\n",
    "neighbors = NearestNeighbors(n_neighbors=k)\n",
    "neighbors.fit(X)\n",
    "distances, indices = neighbors.kneighbors(X)\n",
    "\n",
    "# Sort the distances for each point (use the k-th nearest neighbor distance)\n",
    "sorted_distances = np.sort(distances[:, -1])\n",
    "\n",
    "def update_plot(eps):\n",
    "    # Create the figure with two subplots\n",
    "    fig, ax = plt.subplots(1, 2, figsize=(14, 6))\n",
    "\n",
    "    # --- Plot 1: k-NN distance plot ---\n",
    "    ax[0].plot(sorted_distances)\n",
    "    ax[0].set_xlabel(\"Sorted Points\")\n",
    "    ax[0].set_ylabel(\"Distance to 4th Nearest Neighbor\")\n",
    "    ax[0].set_title(\"k-NN Distance Plot\")\n",
    "    \n",
    "    # Red vertical line corresponding to the selected eps\n",
    "    ax[0].axhline(y=eps, color='r', linestyle='--', label=f'eps = {eps:.2f}')\n",
    "    ax[0].legend()\n",
    "    \n",
    "    # --- Plot 2: DBSCAN Clustering Result ---\n",
    "    dbscan = DBSCAN(eps=eps, min_samples=5)\n",
    "    labels = dbscan.fit_predict(X)\n",
    "    unique_labels = set(labels)\n",
    "    colormap = matplotlib.colormaps['tab10']\n",
    "    \n",
    "    for i, label in enumerate(unique_labels):\n",
    "        cluster_points = X[labels == label]\n",
    "        ax[1].scatter(cluster_points[:, 0], cluster_points[:, 1], \n",
    "                      color=colormap(i / len(unique_labels)), label=f\"Cluster {label}\" if label != -1 else \"Noise\")\n",
    "    \n",
    "    ax[1].set_xlabel(\"Feature 1\")\n",
    "    ax[1].set_ylabel(\"Feature 2\")\n",
    "    ax[1].set_title(\"DBSCAN Clustering\")\n",
    "    ax[1].legend()\n",
    "    \n",
    "    plt.tight_layout()\n",
    "    plt.show()\n",
    "\n",
    "interactive_plot = interactive(update_plot, eps=(0.01, 0.5, 0.01))\n",
    "interactive_plot\n"
   ]
  }
 ],
 "metadata": {
  "kernelspec": {
   "display_name": "Python 3",
   "language": "python",
   "name": "python3"
  },
  "language_info": {
   "codemirror_mode": {
    "name": "ipython",
    "version": 3
   },
   "file_extension": ".py",
   "mimetype": "text/x-python",
   "name": "python",
   "nbconvert_exporter": "python",
   "pygments_lexer": "ipython3",
   "version": "3.11.1"
  }
 },
 "nbformat": 4,
 "nbformat_minor": 2
}
