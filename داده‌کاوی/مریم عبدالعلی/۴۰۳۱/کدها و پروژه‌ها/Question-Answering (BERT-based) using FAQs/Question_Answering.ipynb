{
 "cells": [
  {
   "cell_type": "code",
   "execution_count": 3,
   "metadata": {},
   "outputs": [
    {
     "name": "stdout",
     "output_type": "stream",
     "text": [
      "Question: How secure are online payments on your website?\n",
      "Recommended Answer: Yes, all payment information is encrypted using SSL technology to ensure the security of your transaction.\n"
     ]
    }
   ],
   "source": [
    "import pandas as pd\n",
    "from sentence_transformers import SentenceTransformer\n",
    "from sklearn.metrics.pairwise import cosine_similarity\n",
    "\n",
    "faq_data = {\n",
    "    \"Question\": [\n",
    "        \"What payment methods are accepted?\",\n",
    "        \"Can I modify my order after placing it?\",\n",
    "        \"How do I track my order?\",\n",
    "        \"Do you offer free shipping?\",\n",
    "        \"How do I return an item?\",\n",
    "        \"Can I cancel my order?\",\n",
    "        \"What should I do if I received a damaged product?\",\n",
    "        \"How long will it take for my order to arrive?\",\n",
    "        \"Do you ship internationally?\",\n",
    "        \"Is my payment information secure?\"\n",
    "    ],\n",
    "    \"Answer\": [\n",
    "        \"We accept Visa, MasterCard, American Express, PayPal, and Apple Pay.\",\n",
    "        \"Once your order is placed, it cannot be modified. However, you can contact our customer service to request a cancellation before the order is shipped.\",\n",
    "        \"You can track your order using the tracking number provided in your shipping confirmation email.\",\n",
    "        \"Yes, we offer free shipping on orders over $50 within the United States.\",\n",
    "        \"To return an item, please contact our support team to initiate the return process. Returns are accepted within 30 days of purchase.\",\n",
    "        \"You can cancel your order within 1 hour of placing it. After that, it cannot be canceled.\",\n",
    "        \"If you received a damaged product, please contact our customer service immediately with your order number and photos of the damage.\",\n",
    "        \"Orders are typically delivered within 5-7 business days, depending on your location and shipping method.\",\n",
    "        \"Yes, we offer international shipping to most countries. Shipping fees and delivery times vary by destination.\",\n",
    "        \"Yes, all payment information is encrypted using SSL technology to ensure the security of your transaction.\"\n",
    "    ]\n",
    "}\n",
    "faq_df = pd.DataFrame(faq_data)\n",
    "model = SentenceTransformer('paraphrase-MiniLM-L6-v2')\n",
    "faq_df[\"embedding\"] = faq_df[\"Question\"].apply(lambda x: model.encode(x))\n",
    "def get_answer(query, faq_df, model):\n",
    "    query_embedding = model.encode(query)\n",
    "    similarities = []\n",
    "    for idx, row in faq_df.iterrows():\n",
    "        sim = cosine_similarity([query_embedding], [row[\"embedding\"]])[0][0]\n",
    "        similarities.append((row[\"Answer\"], sim))\n",
    "    best_answer = sorted(similarities, key=lambda x: x[1], reverse=True)[0][0]\n",
    "    return best_answer\n",
    "\n",
    "test_query = \"How secure are online payments on your website?\"\n",
    "recommended_answer = get_answer(test_query, faq_df, model)\n",
    "\n",
    "print(f\"Question: {test_query}\")\n",
    "print(f\"Recommended Answer: {recommended_answer}\")\n"
   ]
  }
 ],
 "metadata": {
  "kernelspec": {
   "display_name": "Python 3",
   "language": "python",
   "name": "python3"
  },
  "language_info": {
   "codemirror_mode": {
    "name": "ipython",
    "version": 3
   },
   "file_extension": ".py",
   "mimetype": "text/x-python",
   "name": "python",
   "nbconvert_exporter": "python",
   "pygments_lexer": "ipython3",
   "version": "3.11.1"
  }
 },
 "nbformat": 4,
 "nbformat_minor": 2
}
