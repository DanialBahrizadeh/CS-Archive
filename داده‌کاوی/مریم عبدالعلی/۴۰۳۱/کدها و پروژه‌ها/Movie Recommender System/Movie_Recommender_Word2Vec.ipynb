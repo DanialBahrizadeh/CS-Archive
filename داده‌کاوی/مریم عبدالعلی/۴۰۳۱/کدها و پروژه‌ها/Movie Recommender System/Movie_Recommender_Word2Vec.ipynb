{
 "cells": [
  {
   "cell_type": "markdown",
   "metadata": {},
   "source": [
    "### Movie Recommender based on Plot summary & Word2Vec"
   ]
  },
  {
   "cell_type": "markdown",
   "metadata": {},
   "source": [
    "Download \"ready-to-use\" Word2Vec from https://drive.google.com/file/d/0B7XkCwpI5KDYNlNUTTlSS21pQmM/edit?resourcekey=0-wjGZdNAUop6WykTtMip30g\n",
    "Unzip the file and put the \"bin\" file in the project directory"
   ]
  },
  {
   "cell_type": "code",
   "execution_count": 11,
   "metadata": {},
   "outputs": [
    {
     "name": "stdout",
     "output_type": "stream",
     "text": [
      "[ 2.05078125e-01  7.85827637e-04  3.54003906e-02  1.00585938e-01\n",
      " -5.44433594e-02  1.53320312e-01  2.55859375e-01 -2.18750000e-01\n",
      " -3.31115723e-03  2.09960938e-01 -2.07031250e-01  1.77001953e-02\n",
      "  4.29687500e-02 -2.01171875e-01 -1.57226562e-01  1.88476562e-01\n",
      " -3.73535156e-02  2.36816406e-02 -2.63671875e-01 -1.33789062e-01\n",
      "  2.23632812e-01  2.05078125e-01 -5.83496094e-02 -3.11279297e-02\n",
      "  4.92095947e-04  2.36328125e-01  1.16699219e-01  4.24804688e-02\n",
      " -1.33789062e-01  1.84570312e-01  5.02929688e-02 -6.00585938e-02\n",
      " -6.22558594e-02  7.61718750e-02  1.48437500e-01  6.10351562e-02\n",
      "  6.39648438e-02 -2.73437500e-01  1.48437500e-01  8.15429688e-02\n",
      "  1.57226562e-01 -2.63671875e-02 -1.10839844e-01  3.24707031e-02\n",
      " -6.93359375e-02 -3.29589844e-02 -1.34765625e-01  4.32128906e-02\n",
      " -1.42578125e-01 -2.50000000e-01  9.86328125e-02 -1.10839844e-01\n",
      " -6.98242188e-02 -2.46093750e-01  1.65039062e-01 -9.81445312e-02\n",
      " -1.71875000e-01 -1.20117188e-01  1.21582031e-01  1.50390625e-01\n",
      "  4.15039062e-02  2.16064453e-02 -8.20312500e-02 -4.98046875e-02\n",
      " -6.49414062e-02  8.49609375e-02 -6.98242188e-02  3.32031250e-02\n",
      "  1.43554688e-01 -1.31835938e-01  1.50756836e-02  1.08398438e-01\n",
      "  1.29882812e-01 -5.95703125e-02  6.59179688e-02 -7.17773438e-02\n",
      " -1.56250000e-01  1.05957031e-01  7.04956055e-03  1.22070312e-01\n",
      "  1.57226562e-01  2.97851562e-02  8.54492188e-02 -1.17675781e-01\n",
      " -8.88671875e-02  3.71093750e-02 -6.01196289e-03  4.18090820e-03\n",
      "  1.60156250e-01  1.57470703e-02  1.66992188e-01  1.69677734e-02\n",
      " -4.56542969e-02  9.86328125e-02  1.65039062e-01  7.76367188e-02\n",
      "  1.04003906e-01  1.53320312e-01 -6.95800781e-03 -9.42382812e-02\n",
      " -1.15722656e-01 -1.65039062e-01 -2.41210938e-01  8.69140625e-02\n",
      "  1.38671875e-01 -1.03027344e-01  1.95312500e-02 -6.88476562e-02\n",
      "  3.10058594e-02  7.51953125e-02 -1.34765625e-01 -6.68945312e-02\n",
      " -1.31835938e-01  8.15429688e-02  1.60156250e-01 -6.83593750e-02\n",
      "  7.37304688e-02  9.47265625e-02  9.08203125e-02  9.32617188e-02\n",
      "  1.64794922e-02 -2.71484375e-01 -4.58984375e-02 -1.09863281e-01\n",
      " -3.26538086e-03  1.80664062e-01 -3.35693359e-03  4.85229492e-03\n",
      "  3.76953125e-01  1.33056641e-02 -1.78710938e-01 -3.39843750e-01\n",
      " -2.50244141e-02  1.87500000e-01  2.47070312e-01 -1.13281250e-01\n",
      " -1.45507812e-01 -1.64062500e-01 -1.84570312e-01  1.67968750e-01\n",
      "  4.39453125e-01 -8.78906250e-03  4.73632812e-02  1.64062500e-01\n",
      "  1.64062500e-01 -3.61328125e-02 -7.08007812e-02  1.33056641e-02\n",
      " -1.96289062e-01 -1.24511719e-02  1.51367188e-01 -9.03320312e-03\n",
      " -1.77734375e-01 -8.25195312e-02 -6.93359375e-02  5.59082031e-02\n",
      " -1.28906250e-01  1.15234375e-01 -4.68750000e-02 -1.70898438e-01\n",
      "  4.19921875e-02 -3.83300781e-02  1.53320312e-01 -5.83496094e-02\n",
      "  6.22558594e-03  2.18750000e-01  1.10351562e-01 -1.53320312e-01\n",
      "  1.77621841e-05  1.28906250e-01 -1.92382812e-01  1.88476562e-01\n",
      " -2.14843750e-01 -5.27343750e-02 -5.71289062e-02  1.21093750e-01\n",
      "  8.05664062e-02 -1.51367188e-01  8.44726562e-02  5.63964844e-02\n",
      " -1.13769531e-01 -1.35742188e-01  8.25195312e-02 -5.76171875e-02\n",
      "  1.19140625e-01  2.54821777e-03 -1.09252930e-02  2.39257812e-02\n",
      " -2.57568359e-02 -1.74560547e-02 -2.16796875e-01  5.63964844e-02\n",
      "  1.62109375e-01 -1.42578125e-01 -1.71875000e-01  2.50244141e-02\n",
      "  6.78710938e-02 -7.71484375e-02  9.96093750e-02 -1.25000000e-01\n",
      "  1.34277344e-02  2.20703125e-01  4.69970703e-03  4.98046875e-02\n",
      " -1.75781250e-01  1.23291016e-02 -1.97265625e-01 -2.09960938e-02\n",
      "  3.90625000e-02 -7.99560547e-03  2.40234375e-01  3.29589844e-02\n",
      " -1.53320312e-01  7.08007812e-02 -2.25585938e-01 -1.11694336e-02\n",
      "  2.55859375e-01  6.39648438e-02 -2.04101562e-01  2.69531250e-01\n",
      " -9.32617188e-02  6.03027344e-02  4.90722656e-02 -3.07617188e-02\n",
      "  5.22460938e-02 -2.89306641e-02  9.96093750e-02  2.08984375e-01\n",
      "  3.58886719e-02 -9.37500000e-02 -8.93554688e-02 -1.21582031e-01\n",
      "  3.44238281e-02 -1.00585938e-01  4.58984375e-02 -3.61328125e-02\n",
      "  8.59375000e-02  4.41894531e-02  1.72851562e-01  1.37329102e-02\n",
      " -2.58789062e-02 -9.27734375e-02  1.58203125e-01  2.45361328e-02\n",
      "  8.74023438e-02 -1.38671875e-01 -1.83593750e-01  1.35742188e-01\n",
      " -1.34765625e-01 -4.51660156e-02  1.04003906e-01  3.12500000e-02\n",
      " -9.52148438e-02 -6.22558594e-02  1.99890137e-03 -4.34570312e-02\n",
      "  1.30615234e-02  1.46484375e-01 -1.24023438e-01  3.49121094e-02\n",
      " -1.12304688e-01  1.49414062e-01 -1.71875000e-01 -9.81445312e-02\n",
      "  2.11914062e-01  4.37011719e-02  4.22363281e-02  3.71093750e-02\n",
      " -1.61132812e-01  2.91748047e-02  7.35473633e-03 -2.44140625e-02\n",
      " -2.28271484e-02  5.43212891e-03 -6.44531250e-02 -3.29589844e-02\n",
      " -1.05468750e-01 -7.22656250e-02  2.85644531e-02 -8.39843750e-02\n",
      "  8.05664062e-02  6.25000000e-02 -8.34960938e-02 -1.11816406e-01\n",
      " -4.43359375e-01 -5.07812500e-02 -1.48437500e-01  1.83593750e-01\n",
      " -6.59179688e-02  9.37500000e-02 -7.61718750e-02 -5.83496094e-02\n",
      " -2.89062500e-01 -1.41601562e-01 -7.71484375e-02 -8.78906250e-02\n",
      "  9.71679688e-02  1.29882812e-01  1.25976562e-01  9.71679688e-02]\n"
     ]
    }
   ],
   "source": [
    "from gensim.models import KeyedVectors\n",
    "\n",
    "# Path to the downloaded model\n",
    "model_path = 'GoogleNews-vectors-negative300.bin'\n",
    "\n",
    "# Load the model\n",
    "word2vec = KeyedVectors.load_word2vec_format(model_path, binary=True)\n",
    "\n",
    "# Example usage\n",
    "vector = word2vec['example']\n",
    "print(vector)"
   ]
  },
  {
   "cell_type": "code",
   "execution_count": 14,
   "metadata": {},
   "outputs": [],
   "source": [
    "import pandas as pd\n",
    "\n",
    "df = pd.read_csv(\"data/tmdb_5000_movies.csv\")"
   ]
  },
  {
   "cell_type": "markdown",
   "metadata": {},
   "source": [
    "This script creates a movie recommendation system using pre-trained Word2Vec embeddings and cosine similarity. It preprocesses movie descriptions by removing non-alphabetic characters, tokenizing, removing stopwords, and applying stemming. Word embeddings for descriptions are averaged to generate sentence embeddings. The system computes similarities between movies based on their embeddings to recommend movies similar to a given title."
   ]
  },
  {
   "cell_type": "code",
   "execution_count": 15,
   "metadata": {},
   "outputs": [
    {
     "name": "stderr",
     "output_type": "stream",
     "text": [
      "[nltk_data] Downloading package punkt_tab to\n",
      "[nltk_data]     C:\\Users\\Asus\\AppData\\Roaming\\nltk_data...\n",
      "[nltk_data]   Package punkt_tab is already up-to-date!\n",
      "[nltk_data] Downloading package stopwords to\n",
      "[nltk_data]     C:\\Users\\Asus\\AppData\\Roaming\\nltk_data...\n",
      "[nltk_data]   Package stopwords is already up-to-date!\n",
      "[nltk_data] Downloading package wordnet to\n",
      "[nltk_data]     C:\\Users\\Asus\\AppData\\Roaming\\nltk_data...\n",
      "[nltk_data]   Package wordnet is already up-to-date!\n"
     ]
    },
    {
     "name": "stdout",
     "output_type": "stream",
     "text": [
      "Movies similar to 'The Godfather': ['The Godfather: Part III', 'Captain America: The Winter Soldier', 'The Boondock Saints', 'Ghost', 'The Godfather: Part II']\n"
     ]
    }
   ],
   "source": [
    "from gensim.models import KeyedVectors\n",
    "from sklearn.metrics.pairwise import cosine_similarity\n",
    "import numpy as np\n",
    "import re\n",
    "from nltk.tokenize import word_tokenize\n",
    "from nltk.corpus import stopwords\n",
    "from nltk.stem import WordNetLemmatizer\n",
    "import nltk\n",
    "\n",
    "\n",
    "nltk.download('punkt_tab')\n",
    "nltk.download('stopwords')\n",
    "nltk.download('wordnet')\n",
    "lemmatizer = WordNetLemmatizer()\n",
    "\n",
    "model_path = \"GoogleNews-vectors-negative300.bin\"\n",
    "word2vec = KeyedVectors.load_word2vec_format(model_path, binary=True)\n",
    "\n",
    "\n",
    "def preprocess(text):\n",
    "    text = re.sub(r'[^a-zA-Z]', ' ', text.lower()) # only keep words\n",
    "    tokens = word_tokenize(text) # tokenize text (convert to words) using nltk tokenizer\n",
    "    stop_words = set(stopwords.words('english')) #remove stopwords using nltk\n",
    "    tokens = [lemmatizer.lemmatize(word) for word in tokens if word not in stop_words and word in word2vec] #Lemmatization: finding root of the words\n",
    "    return tokens\n",
    "\n",
    "# Generate Embeddings for Movie Descriptions\n",
    "def get_sentence_embedding(tokens):\n",
    "    if tokens: #average the word embedding for each words in the description of each movie\n",
    "        return np.mean([word2vec[word] for word in tokens if word in word2vec], axis=0)\n",
    "    else:\n",
    "        return np.zeros(word2vec.vector_size)\n",
    "\n",
    "# Add embeddings to the DataFrame\n",
    "df.dropna(subset=[\"overview\"], inplace=True)\n",
    "df[\"tokens\"] = df[\"overview\"].apply(preprocess)\n",
    "df[\"embedding\"] = df[\"tokens\"].apply(get_sentence_embedding)\n",
    "\n",
    "# Recommendation System using cosine similarity\n",
    "def recommend_movies(movie_title, df, top_n=5):\n",
    "    movie_row = df[df[\"title\"].str.contains(movie_title, case=False, na=False)]\n",
    "    if movie_row.empty:\n",
    "        return f\"Movie '{movie_title}' not found in dataset.\"\n",
    "    \n",
    "    movie_embedding = movie_row.iloc[0][\"embedding\"]\n",
    "\n",
    "    similarities = []\n",
    "    for index, row in df.iterrows():\n",
    "        if row[\"title\"] != movie_title:\n",
    "            sim = cosine_similarity([movie_embedding], [row[\"embedding\"]])[0][0]\n",
    "            similarities.append((row[\"title\"], sim))\n",
    "\n",
    "    recommendations = sorted(similarities, key=lambda x: x[1], reverse=True)[:top_n]\n",
    "    return [rec[0] for rec in recommendations]\n",
    "\n",
    "movie_title = \"The Godfather\"\n",
    "recommended_movies = recommend_movies(movie_title, df)\n",
    "print(f\"Movies similar to '{movie_title}': {recommended_movies}\")\n"
   ]
  },
  {
   "cell_type": "markdown",
   "metadata": {},
   "source": [
    "Cool? The only problem is that \"Averaging word embeddings\" loses word order and context, which might reduce the quality of recommendations"
   ]
  }
 ],
 "metadata": {
  "kernelspec": {
   "display_name": "Python 3",
   "language": "python",
   "name": "python3"
  },
  "language_info": {
   "codemirror_mode": {
    "name": "ipython",
    "version": 3
   },
   "file_extension": ".py",
   "mimetype": "text/x-python",
   "name": "python",
   "nbconvert_exporter": "python",
   "pygments_lexer": "ipython3",
   "version": "3.11.1"
  }
 },
 "nbformat": 4,
 "nbformat_minor": 2
}
