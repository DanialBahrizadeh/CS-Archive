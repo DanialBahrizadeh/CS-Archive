{
 "cells": [
  {
   "cell_type": "markdown",
   "metadata": {},
   "source": [
    "# Customer Segmentation\n",
    "\n",
    "Dataset's important features:\n",
    "\n",
    "- Customer's id\n",
    "- Year_Birth: Customer's year of birth\n",
    "- Education: Customer’s level of education\n",
    "- Marital_Status: Customer’s marital status\n",
    "- Income: Customer’s yearly household income\n",
    "- Kidhome: Number of small children in customer’s household\n",
    "- Teenhome: Number of teenagers in customer’s household\n",
    "- Dt_Customer: Date of customer’s enrolment with the company\n",
    "- Recency: Number of days since the last purchase\n",
    "- MntWines: Amount spent on wine products in the last 2 yearsCustomer's id"
   ]
  },
  {
   "cell_type": "markdown",
   "metadata": {},
   "source": [
    "### Steps:\n",
    "1. Preprocessing:\n",
    "    - Remove missing values\n",
    "    - remove duplicates\n",
    "2. Feature Engineering:\n",
    "    - Extract the \"Age\" of a customer by the \"Year_Birth\" indicating the birth year of the respective person.\n",
    "    - Create another feature \"Spent\" indicating the total amount spent by the customer in various categories over the span of two years.\n",
    "    - Create another binary feature \"Living_With: {\"Alone, Partner}\" out of \"Marital_Status\" to extract the living situation of couples.\n",
    "    - Create a feature \"Children\" to indicate total children in a household that is, sum of kids and teenagers.\n",
    "    - To get further clarity of household, Creating feature indicating \"Family_Size\"\n",
    "    - Create a feature \"Is_Parent\" to indicate parenthood status\n",
    "    - Create three categories in the \"Education\" by simplifying its value counts: {undergraduate, graduate, postgraduate}\n",
    "    - Dropping some of the redundant features\n",
    "        \n",
    "        to_drop = [\"Marital_Status\", \"Dt_Customer\", \"Z_CostContact\", \"Z_Revenue\", \"Year_Birth\", \"ID\"]\n",
    "        \n",
    "        cols_del = ['AcceptedCmp3', 'AcceptedCmp4', 'AcceptedCmp5', 'AcceptedCmp1','AcceptedCmp2', 'Complain', 'Response']\n",
    "\n",
    "3. Convert the categorical features using LabelEncoder\n",
    "4. Scale data\n",
    "5. Project data into 3 dimensions using PCA\n",
    "6. Apply Kmeans to cluster the data into 3 clusters\n",
    "7. Analyze each cluster"
   ]
  }
 ],
 "metadata": {
  "language_info": {
   "name": "python"
  }
 },
 "nbformat": 4,
 "nbformat_minor": 2
}
