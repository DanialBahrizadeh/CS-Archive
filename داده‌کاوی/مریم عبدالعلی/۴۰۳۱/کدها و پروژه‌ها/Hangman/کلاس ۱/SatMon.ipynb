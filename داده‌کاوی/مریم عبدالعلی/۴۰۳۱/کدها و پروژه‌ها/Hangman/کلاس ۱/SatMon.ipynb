{
 "cells": [
  {
   "cell_type": "markdown",
   "metadata": {},
   "source": [
    "# Online Retail Clustering\n",
    "\n",
    "1. Preprocessing steps:\n",
    "    - Remove rows with missing values\n",
    "    - remove duplicates\n",
    "2. Feature Engineering: RFM is a method used for analyzing customer value and segmenting the customer base. \n",
    "\n",
    "    - Recency (R): This metric indicates how recently a customer has made a purchase. A lower recency value means the customer has purchased more recently, indicating higher engagement with the brand.\n",
    "        - steps:\n",
    "            - convert \"InvoiceDate\" column to 'datetime' type using \"pd.to_datetime\", you have to use `format` argument, check out the panadas documentation\n",
    "            - find the latest invoice date for `each` customer\n",
    "            - Find number of days since the customer's most recent invoice\n",
    "            - Store it in a new dataframe\n",
    "    - Frequency (F): This metric signifies how often a customer makes a purchase within a certain period. A higher frequency value indicates a customer who interacts with the business more often, suggesting higher loyalty or satisfaction.\n",
    "        - steps:\n",
    "            - count the number of invoices (\"InvoiceNo\") per customer\n",
    "    - Monetary (M): This metric represents the total amount of money a customer has spent over a certain period. Customers who have a higher monetary value have contributed more to the business, indicating their potential high lifetime value.\n",
    "        - steps:\n",
    "            - multiplying the \"Quantity\" and \"UnitPrice\" columns to create a new \"amount\" column. Sums the \"amount\" for each customer.\n",
    "\n",
    "3. Remove outliers:\n",
    "4. Scale the data using StandardScaler()\n",
    "5. Cluster the data to 3 clusters using KMeans\n",
    "6. Analyze customers in each cluster\n",
    "\n",
    "Together, these metrics help in understanding a customer's buying behavior and preferences, which is pivotal in personalizing marketing strategies and creating a recommendation system.\n"
   ]
  },
  {
   "cell_type": "code",
   "execution_count": null,
   "metadata": {},
   "outputs": [],
   "source": [
    "import pandas as pd\n",
    "import seaborn as sns\n",
    "from matplotlib import pyplot as plt\n",
    "from sklearn.preprocessing import StandardScaler\n",
    "from sklearn.cluster import KMeans\n",
    "\n",
    "data = pd.read_csv(\"data/OnlineRetail.csv\", encoding='unicode_escape')\n",
    "data.head()"
   ]
  },
  {
   "cell_type": "markdown",
   "metadata": {},
   "source": [
    "### Step 1: preproessing\n",
    "\n",
    "- Remove rows with missing values\n",
    "- Remove duplicates"
   ]
  },
  {
   "cell_type": "code",
   "execution_count": null,
   "metadata": {},
   "outputs": [],
   "source": []
  },
  {
   "cell_type": "markdown",
   "metadata": {},
   "source": [
    "### Step 2: Feature Engineering\n",
    "\n",
    "Extract Recency"
   ]
  },
  {
   "cell_type": "code",
   "execution_count": null,
   "metadata": {},
   "outputs": [],
   "source": [
    "data[\"date\"]=pd.to_datetime(data[\"InvoiceDate\"], format=\"%d-%m-%Y %H:%M\")\n",
    "#TODO: Extract most recent invoice for each customer\n",
    "# Hint: use groupby and max and subtract these values from the maximum date in the whole \"date\" clumn\n",
    "# Create new dataframe to keep this\n",
    "#TODO: recency =???"
   ]
  },
  {
   "cell_type": "markdown",
   "metadata": {},
   "source": [
    "Extract Frequency\n"
   ]
  },
  {
   "cell_type": "code",
   "execution_count": 3,
   "metadata": {},
   "outputs": [],
   "source": [
    "#TODO: group customers and 'count' the number of \"InoviceNo\""
   ]
  },
  {
   "cell_type": "markdown",
   "metadata": {},
   "source": [
    "Extract Monetary"
   ]
  },
  {
   "cell_type": "code",
   "execution_count": 4,
   "metadata": {},
   "outputs": [],
   "source": [
    "#TODO: Multiply quantity and unit price and keep it in \"amount\" column\n",
    "# group customers and sum the amount for each customer\n"
   ]
  },
  {
   "cell_type": "markdown",
   "metadata": {},
   "source": [
    "### Step 3: Outlier Removal\n"
   ]
  },
  {
   "cell_type": "code",
   "execution_count": null,
   "metadata": {},
   "outputs": [],
   "source": [
    "Q1 = df[\"amount\"].quantile(0.25)\n",
    "#TODO: Q3 = ?\n",
    "#TODO: IQR\n",
    "#TODO: keep only those values that are between Q1-1.5*IQR and Q3+1.5*IQR\n",
    "#TODO: do the same for recency and frequency as well"
   ]
  },
  {
   "cell_type": "markdown",
   "metadata": {},
   "source": [
    "### Step 4: Scale data"
   ]
  },
  {
   "cell_type": "code",
   "execution_count": 6,
   "metadata": {},
   "outputs": [],
   "source": [
    "scaler = StandardScaler()\n",
    "#TODO: scale all three features"
   ]
  },
  {
   "cell_type": "markdown",
   "metadata": {},
   "source": [
    "### Step 5: Cluster the data into 3 clusters using kmeans"
   ]
  },
  {
   "cell_type": "code",
   "execution_count": 7,
   "metadata": {},
   "outputs": [],
   "source": [
    "#TODO: Fit kmeans, predict the labels"
   ]
  },
  {
   "cell_type": "markdown",
   "metadata": {},
   "source": [
    "### Step 6: cluster analysis"
   ]
  },
  {
   "cell_type": "code",
   "execution_count": null,
   "metadata": {},
   "outputs": [],
   "source": [
    "sns.boxplot(cleaned, x='cluster_id', y='Frequency')\n",
    "#TODO: do the same for Amount and recency"
   ]
  },
  {
   "cell_type": "markdown",
   "metadata": {},
   "source": [
    "### Step 7: Analyze the customers in each cluster.\n",
    "\n",
    "which cluster is more important from business point of view?"
   ]
  }
 ],
 "metadata": {
  "kernelspec": {
   "display_name": "Python 3",
   "language": "python",
   "name": "python3"
  },
  "language_info": {
   "codemirror_mode": {
    "name": "ipython",
    "version": 3
   },
   "file_extension": ".py",
   "mimetype": "text/x-python",
   "name": "python",
   "nbconvert_exporter": "python",
   "pygments_lexer": "ipython3",
   "version": "3.11.1"
  }
 },
 "nbformat": 4,
 "nbformat_minor": 2
}
